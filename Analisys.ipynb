{
 "cells": [
  {
   "cell_type": "markdown",
   "metadata": {},
   "source": [
    "# Análise dos dados\n",
    "\n",
    "Esse notebook tem como objetivo extrair informações dos arquivos de métricas gerados pelas execuções dos experimentos. Nele serão gerados os gráficos que compõem o relatório desse trabalho e servirão de base para a argumentação quanto a eficiência e qualidade dos resultados propostos."
   ]
  },
  {
   "cell_type": "code",
   "execution_count": 3,
   "metadata": {},
   "outputs": [],
   "source": [
    "# Importação de blibliotecas\n",
    "import pandas as pd\n",
    "import seaborn as sns"
   ]
  },
  {
   "cell_type": "code",
   "execution_count": 6,
   "metadata": {},
   "outputs": [],
   "source": [
    "# Leitura dos dados\n",
    "twice_chris_df = pd.read_csv('Results\\SimulationV1-laboratory.csv')\n",
    "bnb_df = pd.read_csv('Results\\SimulationV1-bnb-laboratory.csv')\n",
    "\n",
    "# Concatenação dos dataframes\n",
    "dataframe = pd.concat([twice_chris_df, bnb_df], ignore_index=True)\n",
    "\n",
    "# Correção no cálculo da qualidade das soluções\n",
    "dataframe['quality'] = dataframe.apply(\n",
    "        lambda row: abs((row['solution'] / row['optimal-solution']) - 1)\n",
    "        if pd.notnull(row['solution']) and pd.notnull(row['optimal-solution']) else None, axis=1\n",
    "    )"
   ]
  },
  {
   "cell_type": "code",
   "execution_count": 8,
   "metadata": {},
   "outputs": [],
   "source": []
  },
  {
   "cell_type": "markdown",
   "metadata": {},
   "source": [
    "# Christofides"
   ]
  },
  {
   "cell_type": "markdown",
   "metadata": {},
   "source": []
  }
 ],
 "metadata": {
  "kernelspec": {
   "display_name": "Python 3",
   "language": "python",
   "name": "python3"
  },
  "language_info": {
   "codemirror_mode": {
    "name": "ipython",
    "version": 3
   },
   "file_extension": ".py",
   "mimetype": "text/x-python",
   "name": "python",
   "nbconvert_exporter": "python",
   "pygments_lexer": "ipython3",
   "version": "3.11.9"
  }
 },
 "nbformat": 4,
 "nbformat_minor": 2
}
